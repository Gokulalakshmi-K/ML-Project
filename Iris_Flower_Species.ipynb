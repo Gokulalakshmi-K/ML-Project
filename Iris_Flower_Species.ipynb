{
  "nbformat": 4,
  "nbformat_minor": 0,
  "metadata": {
    "colab": {
      "name": "Iris_Flower_Species",
      "provenance": [],
      "include_colab_link": true
    },
    "kernelspec": {
      "name": "python3",
      "display_name": "Python 3"
    }
  },
  "cells": [
    {
      "cell_type": "markdown",
      "metadata": {
        "id": "view-in-github",
        "colab_type": "text"
      },
      "source": [
        "<a href=\"https://colab.research.google.com/github/Gokulalakshmi-K/ML-Project/blob/main/Iris_Flower_Species.ipynb\" target=\"_parent\"><img src=\"https://colab.research.google.com/assets/colab-badge.svg\" alt=\"Open In Colab\"/></a>"
      ]
    },
    {
      "cell_type": "markdown",
      "metadata": {
        "id": "lZWfGQP9g0DR"
      },
      "source": [
        "#**IRIS SPECIES**"
      ]
    },
    {
      "cell_type": "code",
      "metadata": {
        "id": "W1TPbmKtgtgG",
        "colab": {
          "base_uri": "https://localhost:8080/"
        },
        "outputId": "2cc2e985-81f3-4295-9df7-67e58a438a78"
      },
      "source": [
        "!git clone https://github.com/Gokulalakshmi-K/ML-Project.git"
      ],
      "execution_count": 1,
      "outputs": [
        {
          "output_type": "stream",
          "name": "stdout",
          "text": [
            "Cloning into 'ML-Project'...\n",
            "remote: Enumerating objects: 21, done.\u001b[K\n",
            "remote: Counting objects: 100% (21/21), done.\u001b[K\n",
            "remote: Compressing objects: 100% (19/19), done.\u001b[K\n",
            "remote: Total 21 (delta 6), reused 0 (delta 0), pack-reused 0\u001b[K\n",
            "Unpacking objects: 100% (21/21), done.\n"
          ]
        }
      ]
    },
    {
      "cell_type": "markdown",
      "source": [
        "##**Importing Required Libraries**\n",
        "\n",
        "\n",
        "\n"
      ],
      "metadata": {
        "id": "cLGEUpGZZWHh"
      }
    },
    {
      "cell_type": "code",
      "metadata": {
        "id": "iQgf_nP1-RnV"
      },
      "source": [
        "import numpy as np\n",
        "from pandas import read_csv\n",
        "import sklearn\n",
        "from sklearn.metrics import classification_report\n",
        "from sklearn.ensemble import RandomForestClassifier\n",
        "from sklearn.model_selection import train_test_split"
      ],
      "execution_count": 2,
      "outputs": []
    },
    {
      "cell_type": "markdown",
      "source": [
        "##**Peeking the Data**"
      ],
      "metadata": {
        "id": "Ys4DiUylZjxO"
      }
    },
    {
      "cell_type": "code",
      "metadata": {
        "id": "G4Uo9JKr-VLR"
      },
      "source": [
        "dataframe = read_csv(\"ML-Project/Iris.csv\")\n",
        "dataset = dataframe.values\n",
        "data = dataset[:,0:4].astype(float)\n",
        "labels = dataset[:,4]\n",
        "labels = labels.astype('int')"
      ],
      "execution_count": 7,
      "outputs": []
    },
    {
      "cell_type": "code",
      "metadata": {
        "id": "u6Y1HNwfg8iT"
      },
      "source": [
        "(trainData, testData, trainLabels, testLabels) = train_test_split(np.array(data),\n",
        "\tnp.array(labels), test_size=0.25, random_state=42)"
      ],
      "execution_count": 8,
      "outputs": []
    },
    {
      "cell_type": "markdown",
      "metadata": {
        "id": "kiXeJLzk-uJV"
      },
      "source": [
        "\n",
        "##**Training the Algorithm**"
      ]
    },
    {
      "cell_type": "markdown",
      "source": [
        "#**Random Forest Algorithm**"
      ],
      "metadata": {
        "id": "gdFEXn6yeqc3"
      }
    },
    {
      "cell_type": "code",
      "metadata": {
        "id": "ctdXYPR--12_"
      },
      "source": [
        "#TRAINING THE DATA WITH RANDOM FOREST ALGORITHM  \n",
        "\n",
        "model = RandomForestClassifier(n_estimators=10, random_state=42,max_features=\"auto\")\n",
        "model.fit(trainData, trainLabels)\n",
        "predictions = model.predict(testData)\n",
        "print(classification_report(testLabels, predictions))"
      ],
      "execution_count": null,
      "outputs": []
    },
    {
      "cell_type": "markdown",
      "source": [
        "# **Checking Accuracy of Prediction**"
      ],
      "metadata": {
        "id": "FYRlOf6XbApu"
      }
    },
    {
      "cell_type": "code",
      "source": [
        "# CHECKING THE ACCURACY OF RANDOM FOREST ALGORITHM PREDICTION \n",
        "\n",
        "i = 29\n",
        "print(\"Original value =\",testLabels[i])\n",
        "print(\"Prediction =\",model.predict(testData[[i]]))"
      ],
      "metadata": {
        "id": "6VtaKNywYoP5"
      },
      "execution_count": null,
      "outputs": []
    },
    {
      "cell_type": "markdown",
      "metadata": {
        "id": "nXPaoeig-46g"
      },
      "source": [
        "##**K-Nearest Neighbor**"
      ]
    },
    {
      "cell_type": "code",
      "metadata": {
        "id": "F_DTQ_Dy--3U"
      },
      "source": [
        "#TRAINING THE DATA WITH K-NEAREST NEIGHBOR ALGORITHM  \n",
        "\n",
        "from sklearn.neighbors import KNeighborsClassifier\n",
        "\n",
        "model = KNeighborsClassifier()\n",
        "model.fit(trainData, trainLabels)\n",
        "predictions = model.predict(testData)\n",
        "print(classification_report(testLabels, predictions))"
      ],
      "execution_count": null,
      "outputs": []
    },
    {
      "cell_type": "markdown",
      "source": [
        "# **Checking Accuracy of Prediction**"
      ],
      "metadata": {
        "id": "M7zDguw7dqkW"
      }
    },
    {
      "cell_type": "code",
      "source": [
        "# CHECKING THE ACCURACY OF K-NEAREST NEIGHBOR ALGORITHM PREDICTION \n",
        "\n",
        "i = 18\n",
        "print(\"Original value =\",testLabels[i])\n",
        "print(\"Prediction =\",model.predict(testData[[i]]))"
      ],
      "metadata": {
        "id": "kRGYVr5_diNC"
      },
      "execution_count": null,
      "outputs": []
    },
    {
      "cell_type": "markdown",
      "metadata": {
        "id": "GEM_MBdi_Dpe"
      },
      "source": [
        "#**Support Vector Machine**"
      ]
    },
    {
      "cell_type": "code",
      "metadata": {
        "id": "sT9Kwg9s_Fnp"
      },
      "source": [
        "#TRAINING THE DATA WITH SUPPORT VECTOR MACHINE ALGORITHM  \n",
        "\n",
        "from sklearn.svm import SVC\n",
        "model = SVC(kernel=\"rbf\",C=100)\n",
        "model.fit(trainData, trainLabels)\n",
        "predictions = model.predict(testData)\n",
        "print(classification_report(testLabels, predictions))"
      ],
      "execution_count": null,
      "outputs": []
    },
    {
      "cell_type": "code",
      "source": [
        "# CHECKING THE ACCURACY OF SUPPORT VECTOR MACHINE ALGORITHM PREDICTION \n",
        "\n",
        "i = 7\n",
        "print(\"Original value =\",testLabels[i])\n",
        "print(\"Prediction =\",model.predict(testData[[i]]))"
      ],
      "metadata": {
        "id": "BSKarNzZeIGT"
      },
      "execution_count": null,
      "outputs": []
    },
    {
      "cell_type": "markdown",
      "metadata": {
        "id": "qR36v2Rr_Nok"
      },
      "source": [
        "#**Logistic Regression**"
      ]
    },
    {
      "cell_type": "code",
      "metadata": {
        "id": "pQjR2AeT-ZDA"
      },
      "source": [
        "#TRAINING THE DATA WITH LOGISTIC REGRESSION ALGORITHM  \n",
        "\n",
        "from sklearn.linear_model import LogisticRegression\n",
        "model = LogisticRegression()\n",
        "model.fit(trainData, trainLabels)\n",
        "predictions = model.predict(testData)\n",
        "print(classification_report(testLabels, predictions))"
      ],
      "execution_count": null,
      "outputs": []
    },
    {
      "cell_type": "code",
      "source": [
        "# CHECKING THE ACCURACY OF LOGISTIC REGRESSION ALGORITHM PREDICTION \n",
        "\n",
        "i = 8\n",
        "print(\"Original value =\",testLabels[i])\n",
        "print(\"Prediction =\",model.predict(testData[[i]]))"
      ],
      "metadata": {
        "id": "pJa_zH_Qebrf"
      },
      "execution_count": null,
      "outputs": []
    }
  ]
}